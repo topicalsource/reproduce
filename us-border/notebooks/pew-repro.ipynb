{
 "cells": [
  {
   "cell_type": "markdown",
   "metadata": {},
   "source": [
    "# Pew Research Reproduction\n",
    "\n",
    "This notebook reproduces the graphs found in\n",
    "- https://www.pewresearch.org/short-reads/2024/02/15/migrant-encounters-at-the-us-mexico-border-hit-a-record-high-at-the-end-of-2023/"
   ]
  },
  {
   "cell_type": "code",
   "execution_count": null,
   "metadata": {},
   "outputs": [],
   "source": [
    "import pandas as pd\n",
    "import numpy as np\n",
    "import scipy as sp\n",
    "import plotly.express as px\n",
    "import plotly.figure_factory as ff\n",
    "import plotly.graph_objects as go\n",
    "\n",
    "from sqlalchemy import create_engine\n",
    "from sqlalchemy import text"
   ]
  },
  {
   "cell_type": "code",
   "execution_count": null,
   "metadata": {},
   "outputs": [],
   "source": [
    "DB_CONN = \"mysql+pymysql://ts:ts@localhost:3306/us-border\"\n",
    "engine = create_engine(DB_CONN)\n",
    "conn = engine.connect()"
   ]
  },
  {
   "cell_type": "code",
   "execution_count": null,
   "metadata": {},
   "outputs": [],
   "source": [
    "query = \"\"\"\n",
    "SELECT year, month, SUM(count) as count\n",
    "  FROM cbp_apprehensions_monthly\n",
    "  WHERE region = \"Southern Border\"\n",
    "  GROUP BY year, month\n",
    "  ORDER BY year, month\n",
    "\"\"\"\n",
    "\n",
    "res = conn.execute(text(query))\n",
    "rows = res.mappings().all()\n",
    "\n",
    "data = []\n",
    "for row in rows:\n",
    "  d = dict(row)\n",
    "  data.append(d)\n",
    "\n",
    "df = pd.DataFrame(data, columns=[\"year\", \"month\", \"count\"])\n",
    "df[\"time\"] = df[\"month\"] + \"-\" + df[\"year\"]\n",
    "\n",
    "fig = px.line(df, x=\"time\", y=\"count\", title='Southern Border Encounters, Monthly')\n",
    "fig.show(renderer='notebook')"
   ]
  },
  {
   "cell_type": "code",
   "execution_count": null,
   "metadata": {},
   "outputs": [],
   "source": [
    "query = \"\"\"\n",
    "SELECT year, count\n",
    "  FROM nationwide_apprehensions_yearly\n",
    "\"\"\"\n",
    "\n",
    "res = conn.execute(text(query))\n",
    "rows = res.mappings().all()\n",
    "\n",
    "data = []\n",
    "for row in rows:\n",
    "  d = dict(row)\n",
    "  data.append(d)\n",
    "\n",
    "df = pd.DataFrame(data, columns=[\"year\", \"count\"])\n",
    "\n",
    "fig = px.line(df, x=\"year\", y=\"count\", title='Nationwide Encounters, Yearly')\n",
    "fig.show(renderer='notebook')"
   ]
  },
  {
   "cell_type": "code",
   "execution_count": null,
   "metadata": {},
   "outputs": [],
   "source": [
    "fig = go.Figure()\n",
    "fig.update_layout(\n",
    "  title=dict(text=\"Southern Border Encounters (CBP)\"),\n",
    ")\n",
    "fig.update_yaxes(range=[0,320000])\n",
    "\n",
    "def plot(name, color, query, z):\n",
    "  res = conn.execute(text(query))\n",
    "  rows = res.mappings().all()\n",
    "\n",
    "  data = []\n",
    "  for row in rows:\n",
    "    d = dict(row)\n",
    "    data.append(d)\n",
    "\n",
    "  df = pd.DataFrame(data, columns=[\"year\", \"month\", \"count\", \"encounter_type\"])\n",
    "  df[\"time\"] = df[\"month\"] + \"-\" + df[\"year\"]\n",
    "\n",
    "  fig.add_trace( go.Scatter( x=df[\"time\"], y=df[\"count\"], name=name, line=dict( color=color), zorder=z))\n",
    "\n",
    "plot(\n",
    "  name=\"All\", color=\"#BBBBBB\", z=1,\n",
    "  query = \"\"\"\n",
    "  SELECT year, month, SUM(encounter_count) as count\n",
    "    FROM nationwide_encounters_aor\n",
    "    WHERE region = \"Southwest Land Border\"\n",
    "    GROUP BY year, month\n",
    "    ORDER BY year, month ASC\n",
    "  \"\"\"\n",
    ")\n",
    "\n",
    "plot(\n",
    "  name=\"Encounters\", color=\"#EF553B\", z=0,\n",
    "  query = \"\"\"\n",
    "  SELECT year, month, SUM(encounter_count) as count\n",
    "    FROM nationwide_encounters_aor\n",
    "    WHERE region = \"Southwest Land Border\"\n",
    "      AND encounter_type != \"Inadmissibles\"\n",
    "    GROUP BY year, month\n",
    "    ORDER BY year, month ASC\n",
    "  \"\"\"\n",
    ")\n",
    "\n",
    "plot(\n",
    "  name=\"Apprehensions\", color=\"#636EFA\", z=-1,\n",
    "  query = \"\"\"\n",
    "  SELECT year, month, SUM(encounter_count) as count\n",
    "    FROM nationwide_encounters_aor\n",
    "    WHERE region = \"Southwest Land Border\"\n",
    "      AND encounter_type = \"Apprehensions\"\n",
    "    GROUP BY year, month\n",
    "    ORDER BY year, month ASC\n",
    "  \"\"\"\n",
    ")\n",
    "\n",
    "plot(\n",
    "  name=\"Inadmissibles (PoE)\", color=\"#FECB52\", z=-3,\n",
    "  query = \"\"\"\n",
    "  SELECT year, month, SUM(encounter_count) as count\n",
    "    FROM nationwide_encounters_aor\n",
    "    WHERE region = \"Southwest Land Border\"\n",
    "      AND encounter_type = \"Inadmissibles\"\n",
    "    GROUP BY year, month\n",
    "    ORDER BY year, month ASC\n",
    "  \"\"\",\n",
    ")\n",
    "\n",
    "plot(\n",
    "  name=\"Expulsions (COVID)\", color=\"#00CC96\", z=-2,\n",
    "  query = \"\"\"\n",
    "  SELECT year, month, SUM(encounter_count) as count\n",
    "    FROM nationwide_encounters_aor\n",
    "    WHERE region = \"Southwest Land Border\"\n",
    "      AND encounter_type = \"Expulsions\"\n",
    "    GROUP BY year, month\n",
    "    ORDER BY year, month ASC\n",
    "  \"\"\",\n",
    ")\n",
    "\n",
    "\n",
    "\n",
    "fig.show(renderer='notebook')"
   ]
  },
  {
   "cell_type": "code",
   "execution_count": null,
   "metadata": {},
   "outputs": [],
   "source": [
    "\n",
    "def plot_group(group, title, where = \"\"):\n",
    "  query = f\"\"\"\n",
    "  SELECT year, month, SUM(encounter_count) as count, {group} \n",
    "    FROM nationwide_encounters_aor\n",
    "    {where}\n",
    "    GROUP BY year, month, {group} \n",
    "    ORDER BY year, month, {group}\n",
    "  \"\"\"\n",
    "\n",
    "  res = conn.execute(text(query))\n",
    "  rows = res.mappings().all()\n",
    "\n",
    "  data = []\n",
    "  for row in rows:\n",
    "    d = dict(row)\n",
    "    data.append(d)\n",
    "\n",
    "  df = pd.DataFrame(data, columns=[\"year\", \"month\", \"count\", group])\n",
    "  # df[\"time\"] = pd.to_datetime(dict(year=df[\"year\"], month=df[\"month\"], day=1))\n",
    "  # df[\"time\"] = pd.date_range('2019-10', freq='M', periods=len(df)).strftime('%Y-%m')\n",
    "  # df[\"time\"] = pd.to_datetime(df[['year', 'month']], day=15)\n",
    "  df['time'] = pd.to_datetime(df['year'].astype(str) + '-' + df['month'].astype(str), format='%Y-%b')\n",
    "\n",
    "\n",
    "  fig = px.bar(df, x=\"time\", y=\"count\", color=group, title=title)\n",
    "  fig.show(renderer='notebook')\n"
   ]
  },
  {
   "cell_type": "code",
   "execution_count": null,
   "metadata": {},
   "outputs": [],
   "source": [
    "plot_group(\"encounter_type\", \"Encounters, Monthly\")"
   ]
  },
  {
   "cell_type": "code",
   "execution_count": null,
   "metadata": {},
   "outputs": [],
   "source": [
    "plot_group(\"demographic\", f\"Demographics, Monthly\")"
   ]
  },
  {
   "cell_type": "code",
   "execution_count": null,
   "metadata": {},
   "outputs": [],
   "source": [
    "country = \"VENEZUELA\"\n",
    "where = f\"WHERE citizenship = '{country}'\"\n",
    "plot_group(\"demographic\", f\"{country} Demographics, Monthly\", where)\n",
    "plot_group(\"encounter_type\", f\"{country} Encounters, Monthly\", where)\n",
    "plot_group(\"area_of_responsibility\", f\"{country} by Entry Region, Monthly\", where)"
   ]
  },
  {
   "cell_type": "code",
   "execution_count": null,
   "metadata": {},
   "outputs": [],
   "source": [
    "plot_group(\"citizenship\", \"Yuma Sector by Citizenship, Monthly\", \"WHERE area_of_responsibility = 'Yuma Sector'\")"
   ]
  },
  {
   "cell_type": "code",
   "execution_count": null,
   "metadata": {},
   "outputs": [],
   "source": [
    "plot_group(\"region\", \"Region, Monthly\")"
   ]
  },
  {
   "cell_type": "code",
   "execution_count": null,
   "metadata": {},
   "outputs": [],
   "source": [
    "plot_group(\"area_of_responsibility\", \"Area of Responsibility, Monthly\", \"WHERE area_of_responsibility LIKE '%Sector' AND region = 'Southwest Land Border'\")\n",
    "plot_group(\"area_of_responsibility\", \"Area of Responsibility, Monthly\", \"WHERE area_of_responsibility LIKE '%Office' AND region = 'Southwest Land Border'\")"
   ]
  },
  {
   "cell_type": "code",
   "execution_count": null,
   "metadata": {},
   "outputs": [],
   "source": [
    "def plot_appreh(group, title, where = \"\"):\n",
    "  query = f\"\"\"\n",
    "  SELECT year, month, SUM(count) as count, {group} \n",
    "    FROM cbp_apprehensions_monthly\n",
    "    {where}\n",
    "    GROUP BY year, month, {group} \n",
    "    ORDER BY year, month, {group}\n",
    "  \"\"\"\n",
    "\n",
    "  res = conn.execute(text(query))\n",
    "  rows = res.mappings().all()\n",
    "\n",
    "  data = []\n",
    "  for row in rows:\n",
    "    d = dict(row)\n",
    "    data.append(d)\n",
    "\n",
    "  df = pd.DataFrame(data, columns=[\"year\", \"month\", \"count\", group])\n",
    "  # df[\"time\"] = pd.to_datetime(dict(year=df[\"year\"], month=df[\"month\"], day=1))\n",
    "  # df[\"time\"] = pd.date_range('2019-10', freq='M', periods=len(df)).strftime('%Y-%m')\n",
    "  # df[\"time\"] = pd.to_datetime(df[['year', 'month']], day=15)\n",
    "  df['time'] = pd.to_datetime(df['year'].astype(str) + '-' + df['month'].astype(str), format='%Y-%b')\n",
    "\n",
    "\n",
    "  fig = px.bar(df, x=\"time\", y=\"count\", color=group, title=title)\n",
    "  fig.show(renderer='notebook')"
   ]
  },
  {
   "cell_type": "code",
   "execution_count": null,
   "metadata": {},
   "outputs": [],
   "source": [
    "plot_appreh(\"sector\", \"Apprehensions by Sector, Monthly\", \"WHERE region = 'Southern Border'\")"
   ]
  },
  {
   "cell_type": "code",
   "execution_count": null,
   "metadata": {},
   "outputs": [],
   "source": []
  }
 ],
 "metadata": {
  "kernelspec": {
   "display_name": "Python 3 (ipykernel)",
   "language": "python",
   "name": "python3"
  },
  "language_info": {
   "codemirror_mode": {
    "name": "ipython",
    "version": 3
   },
   "file_extension": ".py",
   "mimetype": "text/x-python",
   "name": "python",
   "nbconvert_exporter": "python",
   "pygments_lexer": "ipython3",
   "version": "3.12.2"
  }
 },
 "nbformat": 4,
 "nbformat_minor": 2
}
